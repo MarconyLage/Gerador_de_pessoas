{
 "cells": [
  {
   "cell_type": "code",
   "execution_count": null,
   "id": "87a87b9e",
   "metadata": {},
   "outputs": [],
   "source": [
    "%pip install pandas faker"
   ]
  },
  {
   "cell_type": "code",
   "execution_count": null,
   "id": "7d262d22",
   "metadata": {},
   "outputs": [],
   "source": [
    "# Importação das bibliotecas\n",
    "import pandas as pd\n",
    "from faker import Faker\n",
    "import random\n",
    "import os"
   ]
  },
  {
   "cell_type": "code",
   "execution_count": null,
   "id": "f39085f8",
   "metadata": {},
   "outputs": [],
   "source": [
    "# Inicializa gerador de dados fake em português do Brasil\n",
    "faker = Faker('pt_BR')"
   ]
  },
  {
   "cell_type": "code",
   "execution_count": null,
   "id": "3de8e4ad",
   "metadata": {},
   "outputs": [],
   "source": [
    "# Caminho do arquivo com cidades e UFs\n",
    "url_csv = 'https://raw.githubusercontent.com/MarconyLage/Cidades_e_UFs/main/Arquivos%20Gerados/cidades_brasil_completo.csv'"
   ]
  },
  {
   "cell_type": "code",
   "execution_count": null,
   "id": "de65b827",
   "metadata": {},
   "outputs": [],
   "source": [
    "# Carrega os dados de cidades e UFs\n",
    "df_cidades = pd.read_csv(url_csv)"
   ]
  },
  {
   "cell_type": "code",
   "execution_count": null,
   "id": "4016fae0",
   "metadata": {},
   "outputs": [],
   "source": [
    "# Função para gerar dados falsos\n",
    "def gerar_dados_pessoas(qtd):\n",
    "    dados = []\n",
    "\n",
    "    for i in range(1, qtd + 1):\n",
    "        linha_cidade = df_cidades.sample(1).iloc[0]\n",
    "\n",
    "        dados.append({\n",
    "            'ID': i,\n",
    "            'Nome': faker.name(),\n",
    "            'Data de Nascimento': faker.date_of_birth(minimum_age=18, maximum_age=90).strftime('%d/%m/%Y'),\n",
    "            'Cidade': linha_cidade['nome_municipio'],\n",
    "            'UF': linha_cidade['uf'],\n",
    "            'País': 'Brasil'\n",
    "        })\n",
    "\n",
    "    return pd.DataFrame(dados)"
   ]
  },
  {
   "cell_type": "code",
   "execution_count": null,
   "id": "3e718d9d",
   "metadata": {},
   "outputs": [],
   "source": [
    "# ======== CONFIGURAÇÕES DE EXPORTAÇÃO ========\n",
    "\n",
    "# Parâmetros de \n",
    "\n",
    "# quantidade de registros\n",
    "qtd_registros = 20  \n",
    "\n",
    "# Caminho da pasta de destino\n",
    "pasta_destino = 'dados_gerados'\n",
    "\n",
    "# Nome do arquivo sem extensão\n",
    "nome_arquivo = 'pessoas_fake'\n",
    "\n",
    "# Formato do arquivo: 'csv' ou 'xlsx'\n",
    "formato = 'csv'\n"
   ]
  },
  {
   "cell_type": "code",
   "execution_count": null,
   "id": "21a6408e",
   "metadata": {},
   "outputs": [],
   "source": [
    "# Criação da pasta se não existir\n",
    "os.makedirs(pasta_destino, exist_ok=True)\n",
    "\n",
    "# Geração dos dados\n",
    "df_pessoas = gerar_dados_pessoas(qtd_registros)\n",
    "\n",
    "# Caminho completo do arquivo com base no formato\n",
    "if formato == 'csv':\n",
    "    caminho_arquivo = os.path.join(pasta_destino, f'{nome_arquivo}.csv')\n",
    "    df_pessoas.to_csv(caminho_arquivo, index=False, sep=';', encoding='utf-8-sig')\n",
    "elif formato == 'xlsx':\n",
    "    caminho_arquivo = os.path.join(pasta_destino, f'{nome_arquivo}.xlsx')\n",
    "    df_pessoas.to_excel(caminho_arquivo, index=False)\n",
    "else:\n",
    "    raise ValueError(\"Formato inválido. Use 'csv' ou 'xlsx'.\")\n",
    "\n",
    "# Confirmação\n",
    "print(f'Arquivo salvo em: {caminho_arquivo}')"
   ]
  }
 ],
 "metadata": {
  "kernelspec": {
   "display_name": "base",
   "language": "python",
   "name": "python3"
  },
  "language_info": {
   "codemirror_mode": {
    "name": "ipython",
    "version": 3
   },
   "file_extension": ".py",
   "mimetype": "text/x-python",
   "name": "python",
   "nbconvert_exporter": "python",
   "pygments_lexer": "ipython3",
   "version": "3.12.7"
  }
 },
 "nbformat": 4,
 "nbformat_minor": 5
}
